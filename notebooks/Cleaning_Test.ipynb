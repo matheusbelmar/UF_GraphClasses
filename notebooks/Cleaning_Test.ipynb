{
 "cells": [
  {
   "cell_type": "code",
   "execution_count": 1,
   "metadata": {},
   "outputs": [],
   "source": [
    "import os\n",
    "os.chdir(\"..\")"
   ]
  },
  {
   "cell_type": "code",
   "execution_count": 40,
   "metadata": {},
   "outputs": [],
   "source": [
    "import pandas as pd\n",
    "import re\n",
    "from scripts.Common.DB_Utils import DBInstance\n",
    "import unicodedata"
   ]
  },
  {
   "cell_type": "code",
   "execution_count": 4,
   "metadata": {},
   "outputs": [],
   "source": [
    "path=r\"/app/data/raw/Classes/Classes.xlsx\""
   ]
  },
  {
   "cell_type": "code",
   "execution_count": 45,
   "metadata": {},
   "outputs": [],
   "source": [
    "df=pd.read_excel(path, sheet_name='Disciplinas')"
   ]
  },
  {
   "cell_type": "code",
   "execution_count": 46,
   "metadata": {},
   "outputs": [],
   "source": [
    "ajuste=[\"OBJETIVOS\", \"METODOLOGIA EXTENSIONISTA\", \"EMENTA\"]"
   ]
  },
  {
   "cell_type": "code",
   "execution_count": 47,
   "metadata": {},
   "outputs": [],
   "source": [
    "def format_text(text):\n",
    "    text = re.sub(r'\\t+', '', str(text))      # remove tabs\n",
    "    text = re.sub(r'\\n+', '\\n', text)         # colapsa múltiplas quebras de linha\n",
    "    return text.strip()"
   ]
  },
  {
   "cell_type": "code",
   "execution_count": 48,
   "metadata": {},
   "outputs": [],
   "source": [
    "for i in ajuste:\n",
    "    df[i] = df[i].apply(format_text)"
   ]
  },
  {
   "cell_type": "code",
   "execution_count": 49,
   "metadata": {},
   "outputs": [],
   "source": [
    "def normalize_column(col):\n",
    "    \n",
    "    # Remove acentos\n",
    "    col = unicodedata.normalize('NFKD', col).encode('ASCII', 'ignore').decode('utf-8')\n",
    "    \n",
    "    #espaço por underscore\n",
    "    col = re.sub(r\"\\s\", \"_\", col).lower()\n",
    "\n",
    "    return col"
   ]
  },
  {
   "cell_type": "code",
   "execution_count": 50,
   "metadata": {},
   "outputs": [],
   "source": [
    "df.columns=list(map(normalize_column, df.columns))"
   ]
  },
  {
   "cell_type": "code",
   "execution_count": 51,
   "metadata": {},
   "outputs": [
    {
     "data": {
      "text/plain": [
       "Index(['sigla', 'disciplina', 'tpei', 'recomendacao', 'objetivos',\n",
       "       'metodologia_extensionista', 'ementa', 'bibliografia_basica',\n",
       "       'bibliografia_complementar'],\n",
       "      dtype='object')"
      ]
     },
     "execution_count": 51,
     "metadata": {},
     "output_type": "execute_result"
    }
   ],
   "source": [
    "df.columns"
   ]
  },
  {
   "cell_type": "code",
   "execution_count": 38,
   "metadata": {},
   "outputs": [
    {
     "data": {
      "text/html": [
       "<div>\n",
       "<style scoped>\n",
       "    .dataframe tbody tr th:only-of-type {\n",
       "        vertical-align: middle;\n",
       "    }\n",
       "\n",
       "    .dataframe tbody tr th {\n",
       "        vertical-align: top;\n",
       "    }\n",
       "\n",
       "    .dataframe thead th {\n",
       "        text-align: right;\n",
       "    }\n",
       "</style>\n",
       "<table border=\"1\" class=\"dataframe\">\n",
       "  <thead>\n",
       "    <tr style=\"text-align: right;\">\n",
       "      <th></th>\n",
       "      <th>objetivos</th>\n",
       "      <th>metodologia_extensionista</th>\n",
       "      <th>ementa</th>\n",
       "    </tr>\n",
       "  </thead>\n",
       "  <tbody>\n",
       "    <tr>\n",
       "      <th>1</th>\n",
       "      <td>Protagonizar ações de extensão utilizando temas da grande área da biodiversidade e evolução. Produzir um resultado concreto da ação extensionista que responda as demandas levandas levantadas pelo público alvo e possa ser disponibilizado para o público não universitário e não científico.</td>\n",
       "      <td>Assessorados pelo docente da disciplina, os discentes e as discentes deverão utilizar metodologias participativas para definir os temas de trabalho em conjunto com o público alvo da ação e compreensão de seu contexto; comunicação crítica para refletir com os sujeitos da ação extensionista a temática abordada, e sempre que possível, serão estimulados a atuar na pesquisa-ação, quando houver possibilidade de ação no contexto do público responsável que responda às demandas levantadas. Serão apresentados alguns exemplos de ações extensionistas possíveis seguindo tais metodologias, para que o discente possa organizar seu trabalho de acordo com sua disponibilidade e interesse. \\nAs trocas realizadas deverão ser registradas pelo discente e encaminhadas semanalmente ao docente responsável para acompanhamento. Ao final da disciplina espera-se que o discente entregue um produto de caráter extensionista, seja ele um curso, palestras, conferências, ensino à distância, apresentações teatrais, campanhas educativas e assistenciais, escola itinerante, panfletos explicativos, cartilhas, textos, entre outros. Os textos elaborados deverão ser publicados em veículo especializado em divulgação científica, preferencialmente aqueles oficiais da UFABC, como os Blogs Divulga Ciência e Guia dos Entusiastas da Ciência. \\nOs discentes e as discentes terão a chance de correlacionar a fundamentação teórica com o fazer prático através das atividades a serem realizadas. Terão a chance de interagir com a sociedade, direta e indiretamente, diagnosticando necessidades e demandas na área de conhecimento de biodiversidade e evolução. Poderão treinar o protagonismo na interação com o público alvo e a linguagem comunicativa crítica com a qual devem se posicionar como iguais, refletir em conjunto e responder às demandas levantadas. Serão incentivados à pesquisa ação, sempre que possível. Ao se enxergarem como atores em modificações sociais, ganharão confiança e amplitude de abordagem para o desenvolvimento de novas ações em seu futuro acadêmico e na vida profissional, fora da Universidade.\\nCada aluno ou aluna escolherá sua trajetória extensionista mais adequada à sua realidade no momento em que estiver cursando a disciplina. O docente responsável terá papel importante nesse momento, assessorando a escolha que garanta uma ação de extensão, factível à realidade de cada aluno. Escolhida a trajetória, cada aluno protagonizará as ações de seus projetos, que devem ser iniciados com o estabelecimento de um público alvo e coleta de dados. A coleta de dados poderá ser direta, através de contato entre aluno e sujeitos da ação ou indireta, através de dados coletados via redes sociais, por exemplo. A partir do levantamento de dados junto aos sujeitos, um tema específico, dentro da temática mais ampla da disciplina deverá ser escolhido em conjunto com o público alvo, bem como o tipo de produto a ser desenvolvido durante a disciplina de acordo com as demandas levantadas. Cada aluno fará a gestão do meio e troca de informações com seu público, bem como dos trabalhos e produção da ação, que deverá ser entregue ao docente e aos sujeitos envolvidos na ação no final da disciplina na forma de texto, vídeo ou relatório com imagens da ação. \\nO docente responsável pela disciplina acompanhará o desenvolvimento das atividades geridas pelos alunos em encontros pré-estabelecidos para garantir que os alunos estejam trabalhando dentro dos preceitos da metodologia participativa e de comunicação crítica. O produto da ação deve ser resultado desse trabalho conjunto entre aluno e sujeitos da ação e demonstrar através das atividades desenvolvidas quais eram as demandas e como foram resolvidas. Todo conhecimento gerado será disponibilizado aos participantes.\\nO público-alvo deverá ser não –acadêmico e não científico, cada discente poderá trabalhar com o público que considerar mais conveniente dentro dessa restrição e ao qual tiver acesso durante o curso da disciplina, por exemplo, podem ser trabalhadas associações de bairros, condomínios, grupos escolares, grupos de pais, professores do ensino básico, fundamental e médio e público leigo geral. A quantidade de pessoas em cada um dos grupos de ação pode depender da trajetória escolhida pelo aluno em relação à comunicação, por exemplo, se presencial ou remota. A expectativa é que os alunos trabalhem mais diretamente com 10 a 30 pessoas.\\nCada estudante estabelecerá as estratégias e critérios para atingir o público alvo de acordo com sua disponibilidade. O chamamento para formação de grupos de interesse poderão utilizar mídias sociais ou contato direto, a depender do público alvo escolhido. Posteriormente, para as reflexões e trocas no decorrer da atividade poderão ser utilizadas estratégias remotas como grupos de WhatsApp, Telegram, encontros virtuais via aplicativos ou presenciais. As reuniões presenciais poderão ser realizadas fora da UFABC ou na universidade, sob responsabilidade de agendamento e gestão do aluno responsável pela ação junto ao docente responsável pela disciplina. \\nAlém de cumprir exigências legais, a realização de ações extensionistas via disciplina regular do curso oferece uma oportunidade de diálogo da universidade com a sociedade, na qual podem ser levantadas demandas a partir do público alvo. Tais demandas podem ampliar o campo de ação e de novas pesquisas na Universidade. Quando demandas regionais são atendidas com a participação da Universidade, a sociedade se sente acolhida e ouvida e a universidade ganha em importância, não só como geradora de conhecimento, mas agora como agente de transformação social. Diria que não só alunos e colegas docentes, mas também a Universidade, como instituição, sai fortalecida desse processo.</td>\n",
       "      <td>O que são ações de extensão. Principais metologias em ações extensionistas. Conhecimento básico em biodiversidade e evolução. Estabelecimento de público alvo. Levantamento de dados e demandas. Construção e apresentação do produto da ação extensionista.</td>\n",
       "    </tr>\n",
       "  </tbody>\n",
       "</table>\n",
       "</div>"
      ],
      "text/plain": [
       "                                                                                                                                                                                                                                                                                         objetivos  \\\n",
       "1  Protagonizar ações de extensão utilizando temas da grande área da biodiversidade e evolução. Produzir um resultado concreto da ação extensionista que responda as demandas levandas levantadas pelo público alvo e possa ser disponibilizado para o público não universitário e não científico.   \n",
       "\n",
       "                                                                                                                                                                                                                                                                                                                                                                                                                                                                                                                                                                                                                                                                                                                                                                                                                                                                                                                                                                                                                                                                                                                                                                                                                                                                                                                                                                                                                                                                                                                                                                                                                                                                                                                                                                                                                                                                                                                                                                                                                                                                                                                                                                                                                                                                                                                                                                                                                                                                                                                                                                                                                                                                                                                                                                                                                                                                                                                                                                                                                                                                                                                                                                                                                                                                                                                                                                                                                                                                                                                                                                                                                                                                                                                                                                                                                                                                                                                                                                                                                                                                                                                                                                                                                                                                                                                                                                                                                                                                                                                                                                                                                                                                                                                                                                                                                                                                                                                                                                                                                                                                                                                                                                                                                                                                                                                                                                                                                                                                                                                                                                                                                                                                                                                                                                                                                                                                                                                                             metodologia_extensionista  \\\n",
       "1  Assessorados pelo docente da disciplina, os discentes e as discentes deverão utilizar metodologias participativas para definir os temas de trabalho em conjunto com o público alvo da ação e compreensão de seu contexto; comunicação crítica para refletir com os sujeitos da ação extensionista a temática abordada, e sempre que possível, serão estimulados a atuar na pesquisa-ação, quando houver possibilidade de ação no contexto do público responsável que responda às demandas levantadas. Serão apresentados alguns exemplos de ações extensionistas possíveis seguindo tais metodologias, para que o discente possa organizar seu trabalho de acordo com sua disponibilidade e interesse. \\nAs trocas realizadas deverão ser registradas pelo discente e encaminhadas semanalmente ao docente responsável para acompanhamento. Ao final da disciplina espera-se que o discente entregue um produto de caráter extensionista, seja ele um curso, palestras, conferências, ensino à distância, apresentações teatrais, campanhas educativas e assistenciais, escola itinerante, panfletos explicativos, cartilhas, textos, entre outros. Os textos elaborados deverão ser publicados em veículo especializado em divulgação científica, preferencialmente aqueles oficiais da UFABC, como os Blogs Divulga Ciência e Guia dos Entusiastas da Ciência. \\nOs discentes e as discentes terão a chance de correlacionar a fundamentação teórica com o fazer prático através das atividades a serem realizadas. Terão a chance de interagir com a sociedade, direta e indiretamente, diagnosticando necessidades e demandas na área de conhecimento de biodiversidade e evolução. Poderão treinar o protagonismo na interação com o público alvo e a linguagem comunicativa crítica com a qual devem se posicionar como iguais, refletir em conjunto e responder às demandas levantadas. Serão incentivados à pesquisa ação, sempre que possível. Ao se enxergarem como atores em modificações sociais, ganharão confiança e amplitude de abordagem para o desenvolvimento de novas ações em seu futuro acadêmico e na vida profissional, fora da Universidade.\\nCada aluno ou aluna escolherá sua trajetória extensionista mais adequada à sua realidade no momento em que estiver cursando a disciplina. O docente responsável terá papel importante nesse momento, assessorando a escolha que garanta uma ação de extensão, factível à realidade de cada aluno. Escolhida a trajetória, cada aluno protagonizará as ações de seus projetos, que devem ser iniciados com o estabelecimento de um público alvo e coleta de dados. A coleta de dados poderá ser direta, através de contato entre aluno e sujeitos da ação ou indireta, através de dados coletados via redes sociais, por exemplo. A partir do levantamento de dados junto aos sujeitos, um tema específico, dentro da temática mais ampla da disciplina deverá ser escolhido em conjunto com o público alvo, bem como o tipo de produto a ser desenvolvido durante a disciplina de acordo com as demandas levantadas. Cada aluno fará a gestão do meio e troca de informações com seu público, bem como dos trabalhos e produção da ação, que deverá ser entregue ao docente e aos sujeitos envolvidos na ação no final da disciplina na forma de texto, vídeo ou relatório com imagens da ação. \\nO docente responsável pela disciplina acompanhará o desenvolvimento das atividades geridas pelos alunos em encontros pré-estabelecidos para garantir que os alunos estejam trabalhando dentro dos preceitos da metodologia participativa e de comunicação crítica. O produto da ação deve ser resultado desse trabalho conjunto entre aluno e sujeitos da ação e demonstrar através das atividades desenvolvidas quais eram as demandas e como foram resolvidas. Todo conhecimento gerado será disponibilizado aos participantes.\\nO público-alvo deverá ser não –acadêmico e não científico, cada discente poderá trabalhar com o público que considerar mais conveniente dentro dessa restrição e ao qual tiver acesso durante o curso da disciplina, por exemplo, podem ser trabalhadas associações de bairros, condomínios, grupos escolares, grupos de pais, professores do ensino básico, fundamental e médio e público leigo geral. A quantidade de pessoas em cada um dos grupos de ação pode depender da trajetória escolhida pelo aluno em relação à comunicação, por exemplo, se presencial ou remota. A expectativa é que os alunos trabalhem mais diretamente com 10 a 30 pessoas.\\nCada estudante estabelecerá as estratégias e critérios para atingir o público alvo de acordo com sua disponibilidade. O chamamento para formação de grupos de interesse poderão utilizar mídias sociais ou contato direto, a depender do público alvo escolhido. Posteriormente, para as reflexões e trocas no decorrer da atividade poderão ser utilizadas estratégias remotas como grupos de WhatsApp, Telegram, encontros virtuais via aplicativos ou presenciais. As reuniões presenciais poderão ser realizadas fora da UFABC ou na universidade, sob responsabilidade de agendamento e gestão do aluno responsável pela ação junto ao docente responsável pela disciplina. \\nAlém de cumprir exigências legais, a realização de ações extensionistas via disciplina regular do curso oferece uma oportunidade de diálogo da universidade com a sociedade, na qual podem ser levantadas demandas a partir do público alvo. Tais demandas podem ampliar o campo de ação e de novas pesquisas na Universidade. Quando demandas regionais são atendidas com a participação da Universidade, a sociedade se sente acolhida e ouvida e a universidade ganha em importância, não só como geradora de conhecimento, mas agora como agente de transformação social. Diria que não só alunos e colegas docentes, mas também a Universidade, como instituição, sai fortalecida desse processo.   \n",
       "\n",
       "                                                                                                                                                                                                                                                         ementa  \n",
       "1  O que são ações de extensão. Principais metologias em ações extensionistas. Conhecimento básico em biodiversidade e evolução. Estabelecimento de público alvo. Levantamento de dados e demandas. Construção e apresentação do produto da ação extensionista.  "
      ]
     },
     "execution_count": 38,
     "metadata": {},
     "output_type": "execute_result"
    }
   ],
   "source": [
    "df[[\"objetivos\", \"metodologia_extensionista\", \"ementa\"]][df[\"sigla\"]=='NHBB003-23']"
   ]
  },
  {
   "cell_type": "markdown",
   "metadata": {},
   "source": [
    "# <span font style=\"color:blue\">Basic exportation tests</span>"
   ]
  },
  {
   "cell_type": "code",
   "execution_count": 52,
   "metadata": {},
   "outputs": [],
   "source": [
    "db_instance=DBInstance()"
   ]
  },
  {
   "cell_type": "code",
   "execution_count": 53,
   "metadata": {},
   "outputs": [],
   "source": [
    "engine=db_instance.get_engine()"
   ]
  },
  {
   "cell_type": "code",
   "execution_count": 54,
   "metadata": {},
   "outputs": [
    {
     "data": {
      "text/plain": [
       "354"
      ]
     },
     "execution_count": 54,
     "metadata": {},
     "output_type": "execute_result"
    }
   ],
   "source": [
    "df.to_sql('classes', con=engine, if_exists='append', index=False, schema=\"bronze\")"
   ]
  },
  {
   "cell_type": "markdown",
   "metadata": {},
   "source": [
    "# <span font style=\"color:blue\">Basic bibliography tests</span>"
   ]
  },
  {
   "cell_type": "code",
   "execution_count": 7,
   "metadata": {},
   "outputs": [],
   "source": [
    "pd.set_option('display.max_colwidth', None)"
   ]
  },
  {
   "cell_type": "code",
   "execution_count": 20,
   "metadata": {},
   "outputs": [],
   "source": [
    "df_books=df[[\"SIGLA\", \"BIBLIOGRAFIA BÁSICA\"]][df[\"SIGLA\"]=='ESZR007-21']"
   ]
  },
  {
   "cell_type": "code",
   "execution_count": 21,
   "metadata": {},
   "outputs": [
    {
     "data": {
      "text/html": [
       "<div>\n",
       "<style scoped>\n",
       "    .dataframe tbody tr th:only-of-type {\n",
       "        vertical-align: middle;\n",
       "    }\n",
       "\n",
       "    .dataframe tbody tr th {\n",
       "        vertical-align: top;\n",
       "    }\n",
       "\n",
       "    .dataframe thead th {\n",
       "        text-align: right;\n",
       "    }\n",
       "</style>\n",
       "<table border=\"1\" class=\"dataframe\">\n",
       "  <thead>\n",
       "    <tr style=\"text-align: right;\">\n",
       "      <th></th>\n",
       "      <th>SIGLA</th>\n",
       "      <th>BIBLIOGRAFIA BÁSICA</th>\n",
       "    </tr>\n",
       "  </thead>\n",
       "  <tbody>\n",
       "    <tr>\n",
       "      <th>0</th>\n",
       "      <td>ESZR007-21</td>\n",
       "      <td>KASSENOVA, Togzhan. Brazil’s Nuclear Kaleidoscope: an envolving identity. Washington: Carnegie Endowment for International Peace, 2014. Disponível em: https://carnegieendowment.org/files/brazil_nuclear_kaleidoscope_lo_res.pdf \\nMARZO, M.; ALMEIDA, S. A Evolução do Controle de Armas Nucleares: Desarmamento e Não Proliferação. Rio de Janeiro: Ciência Moderna, 2006. \\nPERCOVICH, George; ACTON, James (eds.) Abolishing Nuclear Weapons: A Debate. Carnegie Endowment for International Peace. Washington: VMW Printing Inc., 2009. Disponível em: https://carnegieendowment.org/files/abolishing_nuclear_weapons_debate.pdf</td>\n",
       "    </tr>\n",
       "  </tbody>\n",
       "</table>\n",
       "</div>"
      ],
      "text/plain": [
       "        SIGLA  \\\n",
       "0  ESZR007-21   \n",
       "\n",
       "                                                                                                                                                                                                                                                                                                                                                                                                                                                                                                                                                                                                                               BIBLIOGRAFIA BÁSICA  \n",
       "0  KASSENOVA, Togzhan. Brazil’s Nuclear Kaleidoscope: an envolving identity. Washington: Carnegie Endowment for International Peace, 2014. Disponível em: https://carnegieendowment.org/files/brazil_nuclear_kaleidoscope_lo_res.pdf \\nMARZO, M.; ALMEIDA, S. A Evolução do Controle de Armas Nucleares: Desarmamento e Não Proliferação. Rio de Janeiro: Ciência Moderna, 2006. \\nPERCOVICH, George; ACTON, James (eds.) Abolishing Nuclear Weapons: A Debate. Carnegie Endowment for International Peace. Washington: VMW Printing Inc., 2009. Disponível em: https://carnegieendowment.org/files/abolishing_nuclear_weapons_debate.pdf   "
      ]
     },
     "execution_count": 21,
     "metadata": {},
     "output_type": "execute_result"
    }
   ],
   "source": [
    "df_books"
   ]
  },
  {
   "cell_type": "code",
   "execution_count": 22,
   "metadata": {},
   "outputs": [],
   "source": [
    "df_books[\"BIBLIOGRAFIA BÁSICA\"]=df_books[\"BIBLIOGRAFIA BÁSICA\"].str.split('\\n')"
   ]
  },
  {
   "cell_type": "code",
   "execution_count": 23,
   "metadata": {},
   "outputs": [
    {
     "data": {
      "text/html": [
       "<div>\n",
       "<style scoped>\n",
       "    .dataframe tbody tr th:only-of-type {\n",
       "        vertical-align: middle;\n",
       "    }\n",
       "\n",
       "    .dataframe tbody tr th {\n",
       "        vertical-align: top;\n",
       "    }\n",
       "\n",
       "    .dataframe thead th {\n",
       "        text-align: right;\n",
       "    }\n",
       "</style>\n",
       "<table border=\"1\" class=\"dataframe\">\n",
       "  <thead>\n",
       "    <tr style=\"text-align: right;\">\n",
       "      <th></th>\n",
       "      <th>SIGLA</th>\n",
       "      <th>BIBLIOGRAFIA BÁSICA</th>\n",
       "    </tr>\n",
       "  </thead>\n",
       "  <tbody>\n",
       "    <tr>\n",
       "      <th>0</th>\n",
       "      <td>ESZR007-21</td>\n",
       "      <td>[KASSENOVA, Togzhan. Brazil’s Nuclear Kaleidoscope: an envolving identity. Washington: Carnegie Endowment for International Peace, 2014. Disponível em: https://carnegieendowment.org/files/brazil_nuclear_kaleidoscope_lo_res.pdf , MARZO, M.; ALMEIDA, S. A Evolução do Controle de Armas Nucleares: Desarmamento e Não Proliferação. Rio de Janeiro: Ciência Moderna, 2006. , PERCOVICH, George; ACTON, James (eds.) Abolishing Nuclear Weapons: A Debate. Carnegie Endowment for International Peace. Washington: VMW Printing Inc., 2009. Disponível em: https://carnegieendowment.org/files/abolishing_nuclear_weapons_debate.pdf ]</td>\n",
       "    </tr>\n",
       "  </tbody>\n",
       "</table>\n",
       "</div>"
      ],
      "text/plain": [
       "        SIGLA  \\\n",
       "0  ESZR007-21   \n",
       "\n",
       "                                                                                                                                                                                                                                                                                                                                                                                                                                                                                                                                                                                                                                 BIBLIOGRAFIA BÁSICA  \n",
       "0  [KASSENOVA, Togzhan. Brazil’s Nuclear Kaleidoscope: an envolving identity. Washington: Carnegie Endowment for International Peace, 2014. Disponível em: https://carnegieendowment.org/files/brazil_nuclear_kaleidoscope_lo_res.pdf , MARZO, M.; ALMEIDA, S. A Evolução do Controle de Armas Nucleares: Desarmamento e Não Proliferação. Rio de Janeiro: Ciência Moderna, 2006. , PERCOVICH, George; ACTON, James (eds.) Abolishing Nuclear Weapons: A Debate. Carnegie Endowment for International Peace. Washington: VMW Printing Inc., 2009. Disponível em: https://carnegieendowment.org/files/abolishing_nuclear_weapons_debate.pdf ]  "
      ]
     },
     "execution_count": 23,
     "metadata": {},
     "output_type": "execute_result"
    }
   ],
   "source": [
    "df_books"
   ]
  },
  {
   "cell_type": "code",
   "execution_count": 26,
   "metadata": {},
   "outputs": [],
   "source": [
    "df_books=df_books.explode('BIBLIOGRAFIA BÁSICA')"
   ]
  },
  {
   "cell_type": "code",
   "execution_count": 27,
   "metadata": {},
   "outputs": [
    {
     "data": {
      "text/html": [
       "<div>\n",
       "<style scoped>\n",
       "    .dataframe tbody tr th:only-of-type {\n",
       "        vertical-align: middle;\n",
       "    }\n",
       "\n",
       "    .dataframe tbody tr th {\n",
       "        vertical-align: top;\n",
       "    }\n",
       "\n",
       "    .dataframe thead th {\n",
       "        text-align: right;\n",
       "    }\n",
       "</style>\n",
       "<table border=\"1\" class=\"dataframe\">\n",
       "  <thead>\n",
       "    <tr style=\"text-align: right;\">\n",
       "      <th></th>\n",
       "      <th>SIGLA</th>\n",
       "      <th>BIBLIOGRAFIA BÁSICA</th>\n",
       "    </tr>\n",
       "  </thead>\n",
       "  <tbody>\n",
       "    <tr>\n",
       "      <th>0</th>\n",
       "      <td>ESZR007-21</td>\n",
       "      <td>KASSENOVA, Togzhan. Brazil’s Nuclear Kaleidoscope: an envolving identity. Washington: Carnegie Endowment for International Peace, 2014. Disponível em: https://carnegieendowment.org/files/brazil_nuclear_kaleidoscope_lo_res.pdf</td>\n",
       "    </tr>\n",
       "    <tr>\n",
       "      <th>0</th>\n",
       "      <td>ESZR007-21</td>\n",
       "      <td>MARZO, M.; ALMEIDA, S. A Evolução do Controle de Armas Nucleares: Desarmamento e Não Proliferação. Rio de Janeiro: Ciência Moderna, 2006.</td>\n",
       "    </tr>\n",
       "    <tr>\n",
       "      <th>0</th>\n",
       "      <td>ESZR007-21</td>\n",
       "      <td>PERCOVICH, George; ACTON, James (eds.) Abolishing Nuclear Weapons: A Debate. Carnegie Endowment for International Peace. Washington: VMW Printing Inc., 2009. Disponível em: https://carnegieendowment.org/files/abolishing_nuclear_weapons_debate.pdf</td>\n",
       "    </tr>\n",
       "  </tbody>\n",
       "</table>\n",
       "</div>"
      ],
      "text/plain": [
       "        SIGLA  \\\n",
       "0  ESZR007-21   \n",
       "0  ESZR007-21   \n",
       "0  ESZR007-21   \n",
       "\n",
       "                                                                                                                                                                                                                                        BIBLIOGRAFIA BÁSICA  \n",
       "0                       KASSENOVA, Togzhan. Brazil’s Nuclear Kaleidoscope: an envolving identity. Washington: Carnegie Endowment for International Peace, 2014. Disponível em: https://carnegieendowment.org/files/brazil_nuclear_kaleidoscope_lo_res.pdf   \n",
       "0                                                                                                          MARZO, M.; ALMEIDA, S. A Evolução do Controle de Armas Nucleares: Desarmamento e Não Proliferação. Rio de Janeiro: Ciência Moderna, 2006.   \n",
       "0  PERCOVICH, George; ACTON, James (eds.) Abolishing Nuclear Weapons: A Debate. Carnegie Endowment for International Peace. Washington: VMW Printing Inc., 2009. Disponível em: https://carnegieendowment.org/files/abolishing_nuclear_weapons_debate.pdf   "
      ]
     },
     "execution_count": 27,
     "metadata": {},
     "output_type": "execute_result"
    }
   ],
   "source": [
    "df_books"
   ]
  },
  {
   "cell_type": "markdown",
   "metadata": {},
   "source": [
    "## <b>Complementary bibliography</b>"
   ]
  },
  {
   "cell_type": "code",
   "execution_count": 31,
   "metadata": {},
   "outputs": [],
   "source": [
    "df_books_2=df[[\"SIGLA\", \"BIBLIOGRAFIA COMPLEMENTAR\"]][df[\"SIGLA\"]=='ESZR007-21']"
   ]
  },
  {
   "cell_type": "code",
   "execution_count": 32,
   "metadata": {},
   "outputs": [
    {
     "data": {
      "text/html": [
       "<div>\n",
       "<style scoped>\n",
       "    .dataframe tbody tr th:only-of-type {\n",
       "        vertical-align: middle;\n",
       "    }\n",
       "\n",
       "    .dataframe tbody tr th {\n",
       "        vertical-align: top;\n",
       "    }\n",
       "\n",
       "    .dataframe thead th {\n",
       "        text-align: right;\n",
       "    }\n",
       "</style>\n",
       "<table border=\"1\" class=\"dataframe\">\n",
       "  <thead>\n",
       "    <tr style=\"text-align: right;\">\n",
       "      <th></th>\n",
       "      <th>SIGLA</th>\n",
       "      <th>BIBLIOGRAFIA COMPLEMENTAR</th>\n",
       "    </tr>\n",
       "  </thead>\n",
       "  <tbody>\n",
       "    <tr>\n",
       "      <th>0</th>\n",
       "      <td>ESZR007-21</td>\n",
       "      <td>CAVES, John.; CARUS, Seth. The Future of Weapons of Mass Destruction: Their Nature and Role in 2030. Center for the Study of Weapons of Mass Destruction. Ocassional paper No 10. Wasthington: National Defense University Print, 2014. Disponível em: https://www.hsdl.org/?abstract&amp;did=755104\\nKREB, Krestin. “La Política Nuclear en América Latina. Breve Análisis sobre el uso de la Energia Nuclear en América Latina.” Policy Paper 16. Fundação Friedrich Ebert, FES-ILDIS. Quito: Ofset Gráficas, 2011. Disponível em: http://library.fes.de/pdf-files/bueros/quito/08677.pdf\\nPRICE, Owen.; MACKBY Jenifer (Eds). “Debating 21st Century Nuclear Issues. Center for Strategic and International Studies” Washington, D.C, 2007. Disponível em: https://csis-website- prod.s3.amazonaws.com/s3fs-public/legacy_files/files/media/csis/pubs/07-09-14_priceponi.pdf\\nSCHEIDER, M.; FROGATT, A. (Editors). The World Nuclear Industry Status Report 2018. Paris – London. Disponível em: https://www.worldnuclearreport.org/IMG/pdf/20180902wnisr2018-hr.pdf\\nVIENA CENTER FOR DISARMAMENT AND NON PROLIFERATION. Cooperation among Nuclear-Weapon-Free Zones: History, Challenges and Recommendations. VCDNP Task Force Report. March, 2018. Disponível em: https://vcdnp.org/wp-content/uploads/2018/03/NWFZ-TF- Report-final-1.pdf</td>\n",
       "    </tr>\n",
       "  </tbody>\n",
       "</table>\n",
       "</div>"
      ],
      "text/plain": [
       "        SIGLA  \\\n",
       "0  ESZR007-21   \n",
       "\n",
       "                                                                                                                                                                                                                                                                                                                                                                                                                                                                                                                                                                                                                                                                                                                                                                                                                                                                                                                                                                                                                                                                                                                                                                                                                                                                                                                                   BIBLIOGRAFIA COMPLEMENTAR  \n",
       "0  CAVES, John.; CARUS, Seth. The Future of Weapons of Mass Destruction: Their Nature and Role in 2030. Center for the Study of Weapons of Mass Destruction. Ocassional paper No 10. Wasthington: National Defense University Print, 2014. Disponível em: https://www.hsdl.org/?abstract&did=755104\\nKREB, Krestin. “La Política Nuclear en América Latina. Breve Análisis sobre el uso de la Energia Nuclear en América Latina.” Policy Paper 16. Fundação Friedrich Ebert, FES-ILDIS. Quito: Ofset Gráficas, 2011. Disponível em: http://library.fes.de/pdf-files/bueros/quito/08677.pdf\\nPRICE, Owen.; MACKBY Jenifer (Eds). “Debating 21st Century Nuclear Issues. Center for Strategic and International Studies” Washington, D.C, 2007. Disponível em: https://csis-website- prod.s3.amazonaws.com/s3fs-public/legacy_files/files/media/csis/pubs/07-09-14_priceponi.pdf\\nSCHEIDER, M.; FROGATT, A. (Editors). The World Nuclear Industry Status Report 2018. Paris – London. Disponível em: https://www.worldnuclearreport.org/IMG/pdf/20180902wnisr2018-hr.pdf\\nVIENA CENTER FOR DISARMAMENT AND NON PROLIFERATION. Cooperation among Nuclear-Weapon-Free Zones: History, Challenges and Recommendations. VCDNP Task Force Report. March, 2018. Disponível em: https://vcdnp.org/wp-content/uploads/2018/03/NWFZ-TF- Report-final-1.pdf   "
      ]
     },
     "execution_count": 32,
     "metadata": {},
     "output_type": "execute_result"
    }
   ],
   "source": [
    "df_books_2"
   ]
  },
  {
   "cell_type": "code",
   "execution_count": 33,
   "metadata": {},
   "outputs": [],
   "source": [
    "df_books_2[\"BIBLIOGRAFIA COMPLEMENTAR\"]=df_books_2[\"BIBLIOGRAFIA COMPLEMENTAR\"].str.split(r'\\n')"
   ]
  },
  {
   "cell_type": "code",
   "execution_count": 34,
   "metadata": {},
   "outputs": [
    {
     "data": {
      "text/html": [
       "<div>\n",
       "<style scoped>\n",
       "    .dataframe tbody tr th:only-of-type {\n",
       "        vertical-align: middle;\n",
       "    }\n",
       "\n",
       "    .dataframe tbody tr th {\n",
       "        vertical-align: top;\n",
       "    }\n",
       "\n",
       "    .dataframe thead th {\n",
       "        text-align: right;\n",
       "    }\n",
       "</style>\n",
       "<table border=\"1\" class=\"dataframe\">\n",
       "  <thead>\n",
       "    <tr style=\"text-align: right;\">\n",
       "      <th></th>\n",
       "      <th>SIGLA</th>\n",
       "      <th>BIBLIOGRAFIA COMPLEMENTAR</th>\n",
       "    </tr>\n",
       "  </thead>\n",
       "  <tbody>\n",
       "    <tr>\n",
       "      <th>0</th>\n",
       "      <td>ESZR007-21</td>\n",
       "      <td>[CAVES, John.; CARUS, Seth. The Future of Weapons of Mass Destruction: Their Nature and Role in 2030. Center for the Study of Weapons of Mass Destruction. Ocassional paper No 10. Wasthington: National Defense University Print, 2014. Disponível em: https://www.hsdl.org/?abstract&amp;did=755104, KREB, Krestin. “La Política Nuclear en América Latina. Breve Análisis sobre el uso de la Energia Nuclear en América Latina.” Policy Paper 16. Fundação Friedrich Ebert, FES-ILDIS. Quito: Ofset Gráficas, 2011. Disponível em: http://library.fes.de/pdf-files/bueros/quito/08677.pdf, PRICE, Owen.; MACKBY Jenifer (Eds). “Debating 21st Century Nuclear Issues. Center for Strategic and International Studies” Washington, D.C, 2007. Disponível em: https://csis-website- prod.s3.amazonaws.com/s3fs-public/legacy_files/files/media/csis/pubs/07-09-14_priceponi.pdf, SCHEIDER, M.; FROGATT, A. (Editors). The World Nuclear Industry Status Report 2018. Paris – London. Disponível em: https://www.worldnuclearreport.org/IMG/pdf/20180902wnisr2018-hr.pdf, VIENA CENTER FOR DISARMAMENT AND NON PROLIFERATION. Cooperation among Nuclear-Weapon-Free Zones: History, Challenges and Recommendations. VCDNP Task Force Report. March, 2018. Disponível em: https://vcdnp.org/wp-content/uploads/2018/03/NWFZ-TF- Report-final-1.pdf ]</td>\n",
       "    </tr>\n",
       "  </tbody>\n",
       "</table>\n",
       "</div>"
      ],
      "text/plain": [
       "        SIGLA  \\\n",
       "0  ESZR007-21   \n",
       "\n",
       "                                                                                                                                                                                                                                                                                                                                                                                                                                                                                                                                                                                                                                                                                                                                                                                                                                                                                                                                                                                                                                                                                                                                                                                                                                                                                                                                     BIBLIOGRAFIA COMPLEMENTAR  \n",
       "0  [CAVES, John.; CARUS, Seth. The Future of Weapons of Mass Destruction: Their Nature and Role in 2030. Center for the Study of Weapons of Mass Destruction. Ocassional paper No 10. Wasthington: National Defense University Print, 2014. Disponível em: https://www.hsdl.org/?abstract&did=755104, KREB, Krestin. “La Política Nuclear en América Latina. Breve Análisis sobre el uso de la Energia Nuclear en América Latina.” Policy Paper 16. Fundação Friedrich Ebert, FES-ILDIS. Quito: Ofset Gráficas, 2011. Disponível em: http://library.fes.de/pdf-files/bueros/quito/08677.pdf, PRICE, Owen.; MACKBY Jenifer (Eds). “Debating 21st Century Nuclear Issues. Center for Strategic and International Studies” Washington, D.C, 2007. Disponível em: https://csis-website- prod.s3.amazonaws.com/s3fs-public/legacy_files/files/media/csis/pubs/07-09-14_priceponi.pdf, SCHEIDER, M.; FROGATT, A. (Editors). The World Nuclear Industry Status Report 2018. Paris – London. Disponível em: https://www.worldnuclearreport.org/IMG/pdf/20180902wnisr2018-hr.pdf, VIENA CENTER FOR DISARMAMENT AND NON PROLIFERATION. Cooperation among Nuclear-Weapon-Free Zones: History, Challenges and Recommendations. VCDNP Task Force Report. March, 2018. Disponível em: https://vcdnp.org/wp-content/uploads/2018/03/NWFZ-TF- Report-final-1.pdf ]  "
      ]
     },
     "execution_count": 34,
     "metadata": {},
     "output_type": "execute_result"
    }
   ],
   "source": [
    "df_books_2"
   ]
  },
  {
   "cell_type": "code",
   "execution_count": 35,
   "metadata": {},
   "outputs": [],
   "source": [
    "df_books_2=df_books_2.explode('BIBLIOGRAFIA COMPLEMENTAR')"
   ]
  },
  {
   "cell_type": "code",
   "execution_count": 30,
   "metadata": {},
   "outputs": [
    {
     "data": {
      "text/html": [
       "<div>\n",
       "<style scoped>\n",
       "    .dataframe tbody tr th:only-of-type {\n",
       "        vertical-align: middle;\n",
       "    }\n",
       "\n",
       "    .dataframe tbody tr th {\n",
       "        vertical-align: top;\n",
       "    }\n",
       "\n",
       "    .dataframe thead th {\n",
       "        text-align: right;\n",
       "    }\n",
       "</style>\n",
       "<table border=\"1\" class=\"dataframe\">\n",
       "  <thead>\n",
       "    <tr style=\"text-align: right;\">\n",
       "      <th></th>\n",
       "      <th>SIGLA</th>\n",
       "      <th>BIBLIOGRAFIA COMPLEMENTAR</th>\n",
       "    </tr>\n",
       "  </thead>\n",
       "  <tbody>\n",
       "    <tr>\n",
       "      <th>0</th>\n",
       "      <td>ESZR007-21</td>\n",
       "      <td>CAVES, John.; CARUS, Seth. The Future of Weapons of Mass Destruction: Their Nature and Role in 2030. Center for the Study of Weapons of Mass Destruction. Ocassional paper No 10. Wasthington: National Defense University Print, 2014. Disponível em: https://www.hsdl.org/?abstract&amp;did=755104</td>\n",
       "    </tr>\n",
       "    <tr>\n",
       "      <th>0</th>\n",
       "      <td>ESZR007-21</td>\n",
       "      <td>KREB, Krestin. “La Política Nuclear en América Latina. Breve Análisis sobre el uso de la Energia Nuclear en América Latina.” Policy Paper 16. Fundação Friedrich Ebert, FES-ILDIS. Quito: Ofset Gráficas, 2011. Disponível em: http://library.fes.de/pdf-files/bueros/quito/08677.pdf</td>\n",
       "    </tr>\n",
       "    <tr>\n",
       "      <th>0</th>\n",
       "      <td>ESZR007-21</td>\n",
       "      <td>PRICE, Owen.; MACKBY Jenifer (Eds). “Debating 21st Century Nuclear Issues. Center for Strategic and International Studies” Washington, D.C, 2007. Disponível em: https://csis-website- prod.s3.amazonaws.com/s3fs-public/legacy_files/files/media/csis/pubs/07-09-14_priceponi.pdf</td>\n",
       "    </tr>\n",
       "    <tr>\n",
       "      <th>0</th>\n",
       "      <td>ESZR007-21</td>\n",
       "      <td>SCHEIDER, M.; FROGATT, A. (Editors). The World Nuclear Industry Status Report 2018. Paris – London. Disponível em: https://www.worldnuclearreport.org/IMG/pdf/20180902wnisr2018-hr.pdf</td>\n",
       "    </tr>\n",
       "    <tr>\n",
       "      <th>0</th>\n",
       "      <td>ESZR007-21</td>\n",
       "      <td>VIENA CENTER FOR DISARMAMENT AND NON PROLIFERATION. Cooperation among Nuclear-Weapon-Free Zones: History, Challenges and Recommendations. VCDNP Task Force Report. March, 2018. Disponível em: https://vcdnp.org/wp-content/uploads/2018/03/NWFZ-TF- Report-final-1.pdf</td>\n",
       "    </tr>\n",
       "  </tbody>\n",
       "</table>\n",
       "</div>"
      ],
      "text/plain": [
       "        SIGLA  \\\n",
       "0  ESZR007-21   \n",
       "0  ESZR007-21   \n",
       "0  ESZR007-21   \n",
       "0  ESZR007-21   \n",
       "0  ESZR007-21   \n",
       "\n",
       "                                                                                                                                                                                                                                                                           BIBLIOGRAFIA COMPLEMENTAR  \n",
       "0  CAVES, John.; CARUS, Seth. The Future of Weapons of Mass Destruction: Their Nature and Role in 2030. Center for the Study of Weapons of Mass Destruction. Ocassional paper No 10. Wasthington: National Defense University Print, 2014. Disponível em: https://www.hsdl.org/?abstract&did=755104  \n",
       "0      KREB, Krestin. “La Política Nuclear en América Latina. Breve Análisis sobre el uso de la Energia Nuclear en América Latina.” Policy Paper 16. Fundação Friedrich Ebert, FES-ILDIS. Quito: Ofset Gráficas, 2011. Disponível em: http://library.fes.de/pdf-files/bueros/quito/08677.pdf  \n",
       "0                PRICE, Owen.; MACKBY Jenifer (Eds). “Debating 21st Century Nuclear Issues. Center for Strategic and International Studies” Washington, D.C, 2007. Disponível em: https://csis-website- prod.s3.amazonaws.com/s3fs-public/legacy_files/files/media/csis/pubs/07-09-14_priceponi.pdf  \n",
       "0                                                                                                            SCHEIDER, M.; FROGATT, A. (Editors). The World Nuclear Industry Status Report 2018. Paris – London. Disponível em: https://www.worldnuclearreport.org/IMG/pdf/20180902wnisr2018-hr.pdf  \n",
       "0                          VIENA CENTER FOR DISARMAMENT AND NON PROLIFERATION. Cooperation among Nuclear-Weapon-Free Zones: History, Challenges and Recommendations. VCDNP Task Force Report. March, 2018. Disponível em: https://vcdnp.org/wp-content/uploads/2018/03/NWFZ-TF- Report-final-1.pdf   "
      ]
     },
     "execution_count": 30,
     "metadata": {},
     "output_type": "execute_result"
    }
   ],
   "source": [
    "df_books_2"
   ]
  },
  {
   "cell_type": "markdown",
   "metadata": {},
   "source": [
    "# <span font style=\"color:blue\"> Exportation tests - Bibliography</span>"
   ]
  },
  {
   "cell_type": "code",
   "execution_count": 62,
   "metadata": {},
   "outputs": [],
   "source": [
    "def Bibliography_Transformation(\n",
    "                                df_arg: pd.DataFrame, \n",
    "                                Column: str,\n",
    "                                sep: str\n",
    "                                ) -> pd.DataFrame:\n",
    "\n",
    "    df_readings=df_arg[[\"SIGLA\", Column]]\n",
    "    df_readings[Column]=df_readings[Column].str.split(sep)\n",
    "\n",
    "    return df_readings.explode(Column)    "
   ]
  },
  {
   "cell_type": "code",
   "execution_count": 63,
   "metadata": {},
   "outputs": [
    {
     "name": "stderr",
     "output_type": "stream",
     "text": [
      "/tmp/ipykernel_926/3600396081.py:8: SettingWithCopyWarning: \n",
      "A value is trying to be set on a copy of a slice from a DataFrame.\n",
      "Try using .loc[row_indexer,col_indexer] = value instead\n",
      "\n",
      "See the caveats in the documentation: https://pandas.pydata.org/pandas-docs/stable/user_guide/indexing.html#returning-a-view-versus-a-copy\n",
      "  df_readings[Column]=df_readings[Column].str.split(sep)\n",
      "/tmp/ipykernel_926/3600396081.py:8: SettingWithCopyWarning: \n",
      "A value is trying to be set on a copy of a slice from a DataFrame.\n",
      "Try using .loc[row_indexer,col_indexer] = value instead\n",
      "\n",
      "See the caveats in the documentation: https://pandas.pydata.org/pandas-docs/stable/user_guide/indexing.html#returning-a-view-versus-a-copy\n",
      "  df_readings[Column]=df_readings[Column].str.split(sep)\n"
     ]
    }
   ],
   "source": [
    "df_books_basic=Bibliography_Transformation(df, \"BIBLIOGRAFIA BÁSICA\", r\"\\n\")\n",
    "df_books_compl=Bibliography_Transformation(df, \"BIBLIOGRAFIA COMPLEMENTAR\", r\"\\n\")"
   ]
  },
  {
   "cell_type": "code",
   "execution_count": 47,
   "metadata": {},
   "outputs": [],
   "source": [
    "db_instance=DBInstance()\n",
    "engine=db_instance.get_engine()"
   ]
  },
  {
   "cell_type": "code",
   "execution_count": 48,
   "metadata": {},
   "outputs": [
    {
     "data": {
      "text/plain": [
       "867"
      ]
     },
     "execution_count": 48,
     "metadata": {},
     "output_type": "execute_result"
    }
   ],
   "source": [
    "df_books_basic.to_sql('Biliography_Basic', con=engine, if_exists='append', index=False, schema=\"bronze\")\n",
    "df_books_compl.to_sql('Biliography_Complementary', con=engine, if_exists='append', index=False, schema=\"bronze\")"
   ]
  },
  {
   "cell_type": "code",
   "execution_count": 52,
   "metadata": {},
   "outputs": [
    {
     "data": {
      "text/plain": [
       "308"
      ]
     },
     "execution_count": 52,
     "metadata": {},
     "output_type": "execute_result"
    }
   ],
   "source": [
    "df_books_basic.to_sql('Biliography_Basic', con=engine, if_exists='append', index=False, schema=\"bronze\")"
   ]
  },
  {
   "cell_type": "markdown",
   "metadata": {},
   "source": [
    "# <span font style=\"color:blue\">Dependencies</span>"
   ]
  },
  {
   "cell_type": "code",
   "execution_count": 60,
   "metadata": {},
   "outputs": [],
   "source": [
    "df_dependencies=df[[\"SIGLA\", \"RECOMENDAÇÃO\"]]"
   ]
  },
  {
   "cell_type": "code",
   "execution_count": null,
   "metadata": {},
   "outputs": [
    {
     "data": {
      "text/html": [
       "<div>\n",
       "<style scoped>\n",
       "    .dataframe tbody tr th:only-of-type {\n",
       "        vertical-align: middle;\n",
       "    }\n",
       "\n",
       "    .dataframe tbody tr th {\n",
       "        vertical-align: top;\n",
       "    }\n",
       "\n",
       "    .dataframe thead th {\n",
       "        text-align: right;\n",
       "    }\n",
       "</style>\n",
       "<table border=\"1\" class=\"dataframe\">\n",
       "  <thead>\n",
       "    <tr style=\"text-align: right;\">\n",
       "      <th></th>\n",
       "      <th>SIGLA</th>\n",
       "      <th>RECOMENDAÇÃO</th>\n",
       "    </tr>\n",
       "  </thead>\n",
       "  <tbody>\n",
       "    <tr>\n",
       "      <th>0</th>\n",
       "      <td>ESZR007-21</td>\n",
       "      <td>Não há</td>\n",
       "    </tr>\n",
       "    <tr>\n",
       "      <th>1</th>\n",
       "      <td>NHBB003-23</td>\n",
       "      <td>Evolução e Diversificação da Vida na Terra; Biodiversidade: Interações entre organismos e ambiente; Evolução</td>\n",
       "    </tr>\n",
       "    <tr>\n",
       "      <th>2</th>\n",
       "      <td>NHBB004-23</td>\n",
       "      <td>Evolução e Diversificação da Vida na Terra; Bioquímica: estrutura, propriedade e funções de biomoléculas; Genética II; Biologia Celular; Bioquímica Funcional</td>\n",
       "    </tr>\n",
       "    <tr>\n",
       "      <th>3</th>\n",
       "      <td>NHBB005-23</td>\n",
       "      <td>Evolução e Diversificação da Vida na Terra; Biodiversidade: Interações entre organismos e ambiente; Evolução e Diversidade de Plantas I; Evolução e Diversidade de Plantas II</td>\n",
       "    </tr>\n",
       "    <tr>\n",
       "      <th>4</th>\n",
       "      <td>NHBB006-23</td>\n",
       "      <td>Histologia e Embriologia; Biologia celular; Morfofisiologia Humana I; Morfofisiologia Humana II; Morfofisiologia Humana III</td>\n",
       "    </tr>\n",
       "    <tr>\n",
       "      <th>...</th>\n",
       "      <td>...</td>\n",
       "      <td>...</td>\n",
       "    </tr>\n",
       "    <tr>\n",
       "      <th>1349</th>\n",
       "      <td>MCZA052-22</td>\n",
       "      <td>Algoritmos e Estruturas de Dados I; Banco de Dados; Programação Orientada a Objetos</td>\n",
       "    </tr>\n",
       "    <tr>\n",
       "      <th>1350</th>\n",
       "      <td>MCZA031-13</td>\n",
       "      <td>Inteligência Artificial</td>\n",
       "    </tr>\n",
       "    <tr>\n",
       "      <th>1351</th>\n",
       "      <td>NHBB002-23</td>\n",
       "      <td>Sistemática e Biogeografia; Zoologia de Invertebrados I</td>\n",
       "    </tr>\n",
       "    <tr>\n",
       "      <th>1352</th>\n",
       "      <td>NHT1065-15</td>\n",
       "      <td>Sistemática e Biogeografia; Zoologia de Ecdysozoa</td>\n",
       "    </tr>\n",
       "    <tr>\n",
       "      <th>1353</th>\n",
       "      <td>NHBB001-23</td>\n",
       "      <td>Sistemática e Biogeografia</td>\n",
       "    </tr>\n",
       "  </tbody>\n",
       "</table>\n",
       "<p>1354 rows × 2 columns</p>\n",
       "</div>"
      ],
      "text/plain": [
       "           SIGLA  \\\n",
       "0     ESZR007-21   \n",
       "1     NHBB003-23   \n",
       "2     NHBB004-23   \n",
       "3     NHBB005-23   \n",
       "4     NHBB006-23   \n",
       "...          ...   \n",
       "1349  MCZA052-22   \n",
       "1350  MCZA031-13   \n",
       "1351  NHBB002-23   \n",
       "1352  NHT1065-15   \n",
       "1353  NHBB001-23   \n",
       "\n",
       "                                                                                                                                                                       RECOMENDAÇÃO  \n",
       "0                                                                                                                                                                            Não há  \n",
       "1                                                                      Evolução e Diversificação da Vida na Terra; Biodiversidade: Interações entre organismos e ambiente; Evolução  \n",
       "2                     Evolução e Diversificação da Vida na Terra; Bioquímica: estrutura, propriedade e funções de biomoléculas; Genética II; Biologia Celular; Bioquímica Funcional  \n",
       "3     Evolução e Diversificação da Vida na Terra; Biodiversidade: Interações entre organismos e ambiente; Evolução e Diversidade de Plantas I; Evolução e Diversidade de Plantas II  \n",
       "4                                                       Histologia e Embriologia; Biologia celular; Morfofisiologia Humana I; Morfofisiologia Humana II; Morfofisiologia Humana III  \n",
       "...                                                                                                                                                                             ...  \n",
       "1349                                                                                            Algoritmos e Estruturas de Dados I; Banco de Dados; Programação Orientada a Objetos  \n",
       "1350                                                                                                                                                        Inteligência Artificial  \n",
       "1351                                                                                                                        Sistemática e Biogeografia; Zoologia de Invertebrados I  \n",
       "1352                                                                                                                              Sistemática e Biogeografia; Zoologia de Ecdysozoa  \n",
       "1353                                                                                                                                                     Sistemática e Biogeografia  \n",
       "\n",
       "[1354 rows x 2 columns]"
      ]
     },
     "execution_count": 61,
     "metadata": {},
     "output_type": "execute_result"
    }
   ],
   "source": [
    "df_dependencies[\"RECOMENDAÇÃO\"]=df_dependencies[\"RECOMENDAÇÃO\"].str"
   ]
  },
  {
   "cell_type": "code",
   "execution_count": 65,
   "metadata": {},
   "outputs": [
    {
     "name": "stderr",
     "output_type": "stream",
     "text": [
      "/tmp/ipykernel_926/3600396081.py:8: SettingWithCopyWarning: \n",
      "A value is trying to be set on a copy of a slice from a DataFrame.\n",
      "Try using .loc[row_indexer,col_indexer] = value instead\n",
      "\n",
      "See the caveats in the documentation: https://pandas.pydata.org/pandas-docs/stable/user_guide/indexing.html#returning-a-view-versus-a-copy\n",
      "  df_readings[Column]=df_readings[Column].str.split(sep)\n"
     ]
    }
   ],
   "source": [
    "df_dependencies_TG=Bibliography_Transformation(df, \"RECOMENDAÇÃO\", r\";\")"
   ]
  },
  {
   "cell_type": "code",
   "execution_count": 66,
   "metadata": {},
   "outputs": [
    {
     "data": {
      "text/html": [
       "<div>\n",
       "<style scoped>\n",
       "    .dataframe tbody tr th:only-of-type {\n",
       "        vertical-align: middle;\n",
       "    }\n",
       "\n",
       "    .dataframe tbody tr th {\n",
       "        vertical-align: top;\n",
       "    }\n",
       "\n",
       "    .dataframe thead th {\n",
       "        text-align: right;\n",
       "    }\n",
       "</style>\n",
       "<table border=\"1\" class=\"dataframe\">\n",
       "  <thead>\n",
       "    <tr style=\"text-align: right;\">\n",
       "      <th></th>\n",
       "      <th>SIGLA</th>\n",
       "      <th>RECOMENDAÇÃO</th>\n",
       "    </tr>\n",
       "  </thead>\n",
       "  <tbody>\n",
       "    <tr>\n",
       "      <th>0</th>\n",
       "      <td>ESZR007-21</td>\n",
       "      <td>Não há</td>\n",
       "    </tr>\n",
       "    <tr>\n",
       "      <th>1</th>\n",
       "      <td>NHBB003-23</td>\n",
       "      <td>Evolução e Diversificação da Vida na Terra</td>\n",
       "    </tr>\n",
       "    <tr>\n",
       "      <th>1</th>\n",
       "      <td>NHBB003-23</td>\n",
       "      <td>Biodiversidade: Interações entre organismos e ambiente</td>\n",
       "    </tr>\n",
       "    <tr>\n",
       "      <th>1</th>\n",
       "      <td>NHBB003-23</td>\n",
       "      <td>Evolução</td>\n",
       "    </tr>\n",
       "    <tr>\n",
       "      <th>2</th>\n",
       "      <td>NHBB004-23</td>\n",
       "      <td>Evolução e Diversificação da Vida na Terra</td>\n",
       "    </tr>\n",
       "    <tr>\n",
       "      <th>...</th>\n",
       "      <td>...</td>\n",
       "      <td>...</td>\n",
       "    </tr>\n",
       "    <tr>\n",
       "      <th>1351</th>\n",
       "      <td>NHBB002-23</td>\n",
       "      <td>Sistemática e Biogeografia</td>\n",
       "    </tr>\n",
       "    <tr>\n",
       "      <th>1351</th>\n",
       "      <td>NHBB002-23</td>\n",
       "      <td>Zoologia de Invertebrados I</td>\n",
       "    </tr>\n",
       "    <tr>\n",
       "      <th>1352</th>\n",
       "      <td>NHT1065-15</td>\n",
       "      <td>Sistemática e Biogeografia</td>\n",
       "    </tr>\n",
       "    <tr>\n",
       "      <th>1352</th>\n",
       "      <td>NHT1065-15</td>\n",
       "      <td>Zoologia de Ecdysozoa</td>\n",
       "    </tr>\n",
       "    <tr>\n",
       "      <th>1353</th>\n",
       "      <td>NHBB001-23</td>\n",
       "      <td>Sistemática e Biogeografia</td>\n",
       "    </tr>\n",
       "  </tbody>\n",
       "</table>\n",
       "<p>2414 rows × 2 columns</p>\n",
       "</div>"
      ],
      "text/plain": [
       "           SIGLA                                             RECOMENDAÇÃO\n",
       "0     ESZR007-21                                                   Não há\n",
       "1     NHBB003-23               Evolução e Diversificação da Vida na Terra\n",
       "1     NHBB003-23   Biodiversidade: Interações entre organismos e ambiente\n",
       "1     NHBB003-23                                                 Evolução\n",
       "2     NHBB004-23               Evolução e Diversificação da Vida na Terra\n",
       "...          ...                                                      ...\n",
       "1351  NHBB002-23                               Sistemática e Biogeografia\n",
       "1351  NHBB002-23                              Zoologia de Invertebrados I\n",
       "1352  NHT1065-15                               Sistemática e Biogeografia\n",
       "1352  NHT1065-15                                    Zoologia de Ecdysozoa\n",
       "1353  NHBB001-23                               Sistemática e Biogeografia\n",
       "\n",
       "[2414 rows x 2 columns]"
      ]
     },
     "execution_count": 66,
     "metadata": {},
     "output_type": "execute_result"
    }
   ],
   "source": [
    "df_dependencies_TG"
   ]
  },
  {
   "cell_type": "code",
   "execution_count": 67,
   "metadata": {},
   "outputs": [
    {
     "data": {
      "text/plain": [
       "414"
      ]
     },
     "execution_count": 67,
     "metadata": {},
     "output_type": "execute_result"
    }
   ],
   "source": [
    "df_dependencies_TG.to_sql('Dependencies', con=engine, if_exists='append', index=False, schema=\"bronze\")"
   ]
  },
  {
   "cell_type": "code",
   "execution_count": null,
   "metadata": {},
   "outputs": [],
   "source": []
  }
 ],
 "metadata": {
  "kernelspec": {
   "display_name": "Python 3",
   "language": "python",
   "name": "python3"
  },
  "language_info": {
   "codemirror_mode": {
    "name": "ipython",
    "version": 3
   },
   "file_extension": ".py",
   "mimetype": "text/x-python",
   "name": "python",
   "nbconvert_exporter": "python",
   "pygments_lexer": "ipython3",
   "version": "3.11.12"
  }
 },
 "nbformat": 4,
 "nbformat_minor": 2
}
